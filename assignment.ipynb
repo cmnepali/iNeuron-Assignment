{
 "cells": [
  {
   "cell_type": "markdown",
   "id": "8fdd878c",
   "metadata": {},
   "source": [
    "1. In the below elements which of them are values or an expression? eg:- values can be integer or string and expressions will be mathematical operators.\n",
    "* \n",
    "'hello'\n",
    "-87.8\n",
    "- \n",
    "/ \n",
    "+\t\n",
    "6 \n",
    "answer: values are 'hello',-87.8, 6 and expressions are *, -, /, +"
   ]
  },
  {
   "cell_type": "markdown",
   "id": "718cc091",
   "metadata": {},
   "source": [
    "2. What is the difference between string and variable? \n",
    "answer: String is defined as the array of the characters which is enclosed inside quotes double or single. In other word string is a value represent the text. Variable is the name that refer to any value."
   ]
  },
  {
   "cell_type": "markdown",
   "id": "49654b89",
   "metadata": {},
   "source": [
    "3. Describe three different data types.\n",
    "answer: Any three types of data types are String, Integer and Boolean.\n",
    "String can hold the text or character.\n",
    "Integer have numeric types of data and\n",
    "Boolean represent one of two values 'True' or 'False'"
   ]
  },
  {
   "cell_type": "markdown",
   "id": "851b61d0",
   "metadata": {},
   "source": [
    "4. What is an expression made up of? What do all expressions do?\n",
    "answer: An expression is made up of operator, constant and variables. Expression representations of any value like number, string."
   ]
  },
  {
   "cell_type": "markdown",
   "id": "559bcc74",
   "metadata": {},
   "source": [
    "5. This assignment statements, like spam = 10. What is the difference between an expression and a statement?\n",
    "answer:An expression is made up of operator, constant and variables.\n",
    "statement is programming instruction. spam=10 is both expression and statement but print(\"spam\") is only statement.\n",
    "Every expression is statement but every statement is not expression."
   ]
  },
  {
   "cell_type": "markdown",
   "id": "2afb28c1",
   "metadata": {},
   "source": [
    "6. After running the following code, what does the variable bacon contain?\n",
    "bacon = 22\n",
    "bacon + 1\n",
    "answer: bacon variable contain value 23"
   ]
  },
  {
   "cell_type": "markdown",
   "id": "6c4913b1",
   "metadata": {},
   "source": [
    "7. What should the values of the following two terms be?\n",
    "'spam'+'spamspam'\n",
    "'spam'*3\n",
    "answer: The output will be same 'spamspamspam'"
   ]
  },
  {
   "cell_type": "markdown",
   "id": "b9a39e93",
   "metadata": {},
   "source": [
    "8. Why is eggs a valid variable name while 100 is invalid?\n",
    "\n",
    "answer: variable name always start with characters but not numbers."
   ]
  },
  {
   "cell_type": "markdown",
   "id": "debb4676",
   "metadata": {},
   "source": [
    "9. What three functions can be used to get the integer, floating-point number, or string version of a value?\n",
    "answer: The int(),float() and str()functiom will used to get the integer, folationg point number and string respectively."
   ]
  },
  {
   "cell_type": "markdown",
   "id": "d84fc228",
   "metadata": {},
   "source": [
    "10. Why does this expression cause an error? How can you fix it?\n",
    "'I have eaten'+ 99 +'burritos.'\n",
    "answer: String and integer cannot be added or concatination. To fixed this expression use '99' or typecast the 99 to str(99)."
   ]
  }
 ],
 "metadata": {
  "kernelspec": {
   "display_name": "Python 3 (ipykernel)",
   "language": "python",
   "name": "python3"
  },
  "language_info": {
   "codemirror_mode": {
    "name": "ipython",
    "version": 3
   },
   "file_extension": ".py",
   "mimetype": "text/x-python",
   "name": "python",
   "nbconvert_exporter": "python",
   "pygments_lexer": "ipython3",
   "version": "3.9.7"
  }
 },
 "nbformat": 4,
 "nbformat_minor": 5
}
